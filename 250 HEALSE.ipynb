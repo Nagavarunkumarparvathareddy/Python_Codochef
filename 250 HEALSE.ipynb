{
 "cells": [
  {
   "cell_type": "code",
   "execution_count": 1,
   "id": "8ed1f944-d188-46e5-906c-4a7c0248989d",
   "metadata": {},
   "outputs": [
    {
     "name": "stdin",
     "output_type": "stream",
     "text": [
      " 81\n"
     ]
    },
    {
     "name": "stdout",
     "output_type": "stream",
     "text": [
      "MORE\n"
     ]
    }
   ],
   "source": [
    "# cook your dish here\n",
    "n = int(input())\n",
    "if n < 8:\n",
    "    print('LESS')\n",
    "elif n==8:\n",
    "    print('PERFECT')\n",
    "else:\n",
    "    print('MORE')"
   ]
  },
  {
   "cell_type": "code",
   "execution_count": null,
   "id": "ebe3d26f-ccd3-4e2c-812a-89cc66c4bee1",
   "metadata": {},
   "outputs": [],
   "source": []
  }
 ],
 "metadata": {
  "kernelspec": {
   "display_name": "Python 3 (ipykernel)",
   "language": "python",
   "name": "python3"
  },
  "language_info": {
   "codemirror_mode": {
    "name": "ipython",
    "version": 3
   },
   "file_extension": ".py",
   "mimetype": "text/x-python",
   "name": "python",
   "nbconvert_exporter": "python",
   "pygments_lexer": "ipython3",
   "version": "3.12.4"
  }
 },
 "nbformat": 4,
 "nbformat_minor": 5
}
