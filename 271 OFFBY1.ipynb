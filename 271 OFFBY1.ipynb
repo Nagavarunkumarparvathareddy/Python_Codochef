{
 "cells": [
  {
   "cell_type": "code",
   "execution_count": null,
   "id": "812de237-f5c4-4bac-8f76-2e462c52f420",
   "metadata": {},
   "outputs": [],
   "source": [
    "a,b =map(int,input().split())\n",
    "sum = a+b\n",
    "s=str(sum)\n",
    "print(s+\"1\")"
   ]
  }
 ],
 "metadata": {
  "kernelspec": {
   "display_name": "Python 3 (ipykernel)",
   "language": "python",
   "name": "python3"
  },
  "language_info": {
   "codemirror_mode": {
    "name": "ipython",
    "version": 3
   },
   "file_extension": ".py",
   "mimetype": "text/x-python",
   "name": "python",
   "nbconvert_exporter": "python",
   "pygments_lexer": "ipython3",
   "version": "3.12.4"
  }
 },
 "nbformat": 4,
 "nbformat_minor": 5
}
