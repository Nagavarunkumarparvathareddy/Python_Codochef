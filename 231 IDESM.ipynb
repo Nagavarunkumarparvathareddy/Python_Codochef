{
 "cells": [
  {
   "cell_type": "code",
   "execution_count": null,
   "id": "24d45a35-421d-4f4d-a9d0-31361dc9188c",
   "metadata": {},
   "outputs": [],
   "source": [
    "n = int(input())\n",
    "if n == 15:\n",
    "    print(\"Yes\")\n",
    "else:\n",
    "    print(\"NO\")"
   ]
  },
  {
   "cell_type": "code",
   "execution_count": null,
   "id": "19117abc-baef-494e-bb3c-13435a8fa85c",
   "metadata": {},
   "outputs": [],
   "source": []
  }
 ],
 "metadata": {
  "kernelspec": {
   "display_name": "Python 3 (ipykernel)",
   "language": "python",
   "name": "python3"
  },
  "language_info": {
   "codemirror_mode": {
    "name": "ipython",
    "version": 3
   },
   "file_extension": ".py",
   "mimetype": "text/x-python",
   "name": "python",
   "nbconvert_exporter": "python",
   "pygments_lexer": "ipython3",
   "version": "3.12.4"
  }
 },
 "nbformat": 4,
 "nbformat_minor": 5
}
