{
 "cells": [
  {
   "cell_type": "code",
   "execution_count": null,
   "id": "c51fcfbf-a37d-4d7b-8732-0140cf4cd689",
   "metadata": {},
   "outputs": [],
   "source": [
    "n = int(input())\n",
    "print(n//12)"
   ]
  }
 ],
 "metadata": {
  "kernelspec": {
   "display_name": "Python 3 (ipykernel)",
   "language": "python",
   "name": "python3"
  },
  "language_info": {
   "codemirror_mode": {
    "name": "ipython",
    "version": 3
   },
   "file_extension": ".py",
   "mimetype": "text/x-python",
   "name": "python",
   "nbconvert_exporter": "python",
   "pygments_lexer": "ipython3",
   "version": "3.12.4"
  }
 },
 "nbformat": 4,
 "nbformat_minor": 5
}
