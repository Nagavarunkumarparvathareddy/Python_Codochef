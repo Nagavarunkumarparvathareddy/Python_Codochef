{
 "cells": [
  {
   "cell_type": "code",
   "execution_count": 2,
   "id": "71f97e6e-b137-4dcf-a5ab-cfecf5e5177b",
   "metadata": {},
   "outputs": [
    {
     "name": "stdin",
     "output_type": "stream",
     "text": [
      " 1 2 3 4\n"
     ]
    },
    {
     "name": "stdout",
     "output_type": "stream",
     "text": [
      "Ronaldo\n"
     ]
    }
   ],
   "source": [
    "A,B,X,Y = map(int,input().split())\n",
    "if (A*2 +B) > (X*2+Y):\n",
    "    print('Messi')\n",
    "elif (A*2 +B) == (X*2+Y):\n",
    "    print('Equal')\n",
    "else:\n",
    "    print('Ronaldo')\n"
   ]
  },
  {
   "cell_type": "code",
   "execution_count": null,
   "id": "5bc0fee6-3d48-4ad4-b997-1c77da2d933c",
   "metadata": {},
   "outputs": [],
   "source": []
  }
 ],
 "metadata": {
  "kernelspec": {
   "display_name": "Python 3 (ipykernel)",
   "language": "python",
   "name": "python3"
  },
  "language_info": {
   "codemirror_mode": {
    "name": "ipython",
    "version": 3
   },
   "file_extension": ".py",
   "mimetype": "text/x-python",
   "name": "python",
   "nbconvert_exporter": "python",
   "pygments_lexer": "ipython3",
   "version": "3.12.4"
  }
 },
 "nbformat": 4,
 "nbformat_minor": 5
}
