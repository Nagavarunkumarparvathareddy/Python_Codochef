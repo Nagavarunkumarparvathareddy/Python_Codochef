{
 "cells": [
  {
   "cell_type": "code",
   "execution_count": 1,
   "id": "7e73d71d-a8f6-47d9-88a1-b4adbe14e25b",
   "metadata": {},
   "outputs": [
    {
     "name": "stdin",
     "output_type": "stream",
     "text": [
      " 25\n"
     ]
    },
    {
     "name": "stdout",
     "output_type": "stream",
     "text": [
      "CHRISTMAS\n"
     ]
    }
   ],
   "source": [
    "# cook your dish here\n",
    "X = int(input())\n",
    "if X==25:\n",
    "    print(\"CHRISTMAS\")\n",
    "else:\n",
    "    print(\"ORDINARY\")"
   ]
  },
  {
   "cell_type": "code",
   "execution_count": null,
   "id": "7c84106c-1371-4644-9300-e87220647518",
   "metadata": {},
   "outputs": [],
   "source": []
  }
 ],
 "metadata": {
  "kernelspec": {
   "display_name": "Python 3 (ipykernel)",
   "language": "python",
   "name": "python3"
  },
  "language_info": {
   "codemirror_mode": {
    "name": "ipython",
    "version": 3
   },
   "file_extension": ".py",
   "mimetype": "text/x-python",
   "name": "python",
   "nbconvert_exporter": "python",
   "pygments_lexer": "ipython3",
   "version": "3.12.4"
  }
 },
 "nbformat": 4,
 "nbformat_minor": 5
}
