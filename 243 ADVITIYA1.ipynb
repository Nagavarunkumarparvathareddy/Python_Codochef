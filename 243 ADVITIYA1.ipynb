{
 "cells": [
  {
   "cell_type": "code",
   "execution_count": 1,
   "id": "a73ec923-247b-450b-94b7-299cf4f3d87d",
   "metadata": {},
   "outputs": [
    {
     "name": "stdin",
     "output_type": "stream",
     "text": [
      " 5\n"
     ]
    },
    {
     "name": "stdout",
     "output_type": "stream",
     "text": [
      "WAITING FOR ADVITIYA\n"
     ]
    }
   ],
   "source": [
    "# cook your dish here\n",
    "n = int(input())\n",
    "if n>=16 and n <=18:\n",
    "    print(\"ADVITIYA\")\n",
    "else:\n",
    "    print(\"WAITING FOR ADVITIYA\")"
   ]
  },
  {
   "cell_type": "code",
   "execution_count": null,
   "id": "ed2a49e4-8eb2-42b7-9fe2-0b980f4e9155",
   "metadata": {},
   "outputs": [],
   "source": []
  }
 ],
 "metadata": {
  "kernelspec": {
   "display_name": "Python 3 (ipykernel)",
   "language": "python",
   "name": "python3"
  },
  "language_info": {
   "codemirror_mode": {
    "name": "ipython",
    "version": 3
   },
   "file_extension": ".py",
   "mimetype": "text/x-python",
   "name": "python",
   "nbconvert_exporter": "python",
   "pygments_lexer": "ipython3",
   "version": "3.12.4"
  }
 },
 "nbformat": 4,
 "nbformat_minor": 5
}
